{
 "cells": [
  {
   "cell_type": "code",
   "execution_count": 13,
   "id": "cde125b1-32c1-47b9-9a28-a7533c41e0cc",
   "metadata": {},
   "outputs": [
    {
     "name": "stdout",
     "output_type": "stream",
     "text": [
      "MultiIndex([('Unnamed: 0_level_0', ...),\n",
      "            ('Unnamed: 1_level_0', ...),\n",
      "            ('Unnamed: 2_level_0', ...),\n",
      "            (         '20-Nov-23', ...),\n",
      "            (         '20-Nov-23', ...),\n",
      "            (         '20-Nov-23', ...),\n",
      "            (         '21-Nov-23', ...),\n",
      "            (         '21-Nov-23', ...),\n",
      "            (         '21-Nov-23', ...),\n",
      "            (         '22-Nov-23', ...),\n",
      "            ...\n",
      "            (         '28-Mar-24', ...),\n",
      "            (         '29-Mar-24', ...),\n",
      "            (         '29-Mar-24', ...),\n",
      "            (         '29-Mar-24', ...),\n",
      "            (         '30-Mar-24', ...),\n",
      "            (         '30-Mar-24', ...),\n",
      "            (         '30-Mar-24', ...),\n",
      "            (         '31-Mar-24', ...),\n",
      "            (         '31-Mar-24', ...),\n",
      "            (         '31-Mar-24', ...)],\n",
      "           length=402)\n"
     ]
    }
   ],
   "source": [
    "import pandas as pd\n",
    "\n",
    "df = pd.read_csv(\"Desktop/data6/data4.csv\", header=[0, 1])\n",
    "\n",
    "print(df.columns)"
   ]
  },
  {
   "cell_type": "code",
   "execution_count": 14,
   "id": "58ccb222-c74c-42b1-a7e2-78fdc4e52914",
   "metadata": {},
   "outputs": [],
   "source": [
    "df.columns = ['{}_{}'.format(str(a), str(b)) if a and b else str(a or b)\n",
    "              for a, b in df.columns]"
   ]
  },
  {
   "cell_type": "code",
   "execution_count": 28,
   "id": "c0d78337-93e0-4244-acc8-0437be145928",
   "metadata": {},
   "outputs": [],
   "source": [
    "df.to_csv(\"Desktop/data6/namechanged.csv\", index=False)"
   ]
  },
  {
   "cell_type": "code",
   "execution_count": 27,
   "id": "800c26df-c1b8-4dcc-bc54-153b7a845851",
   "metadata": {},
   "outputs": [],
   "source": [
    "df_long.to_csv(\"Desktop/data6/namechanged.csv\", index=False)"
   ]
  },
  {
   "cell_type": "code",
   "execution_count": 26,
   "id": "59da3a20-e02a-4ccc-b419-636e4d2534e4",
   "metadata": {},
   "outputs": [
    {
     "name": "stdout",
     "output_type": "stream",
     "text": [
      "Index(['NHS England Region', 'Code', 'Name', 'Value', 'Date', 'Category'], dtype='object')\n"
     ]
    }
   ],
   "source": [
    "print(df_long.columns)"
   ]
  },
  {
   "cell_type": "code",
   "execution_count": 29,
   "id": "0f70bb60-0645-4e50-b794-1590cdef17f3",
   "metadata": {},
   "outputs": [
    {
     "name": "stdout",
     "output_type": "stream",
     "text": [
      "Index(['NHS England Region', 'Code', 'Name', '20-Nov-23_Total G&A Beds Open',\n",
      "       '20-Nov-23_Total G&A Beds Unavailable to non-covid admissions \"void\" ',\n",
      "       '20-Nov-23_Total G&A beds occ'd', '21-Nov-23_Total G&A Beds Open',\n",
      "       '21-Nov-23_Total G&A Beds Unavailable to non-covid admissions \"void\" ',\n",
      "       '21-Nov-23_Total G&A beds occ'd', '22-Nov-23_Total G&A Beds Open',\n",
      "       ...\n",
      "       '28-Mar-24_Total G&A beds occ'd', '29-Mar-24_Total G&A Beds Open',\n",
      "       '29-Mar-24_Total G&A Beds Unavailable to non-covid admissions \"void\" ',\n",
      "       '29-Mar-24_Total G&A beds occ'd', '30-Mar-24_Total G&A Beds Open',\n",
      "       '30-Mar-24_Total G&A Beds Unavailable to non-covid admissions \"void\" ',\n",
      "       '30-Mar-24_Total G&A beds occ'd', '31-Mar-24_Total G&A Beds Open',\n",
      "       '31-Mar-24_Total G&A Beds Unavailable to non-covid admissions \"void\" ',\n",
      "       '31-Mar-24_Total G&A beds occ'd'],\n",
      "      dtype='object', length=402)\n"
     ]
    }
   ],
   "source": [
    "print(df.columns)\n",
    "\n",
    "# Melt the DataFrame to long format\n",
    "df_long = df.melt(\n",
    "    id_vars=['NHS England Region', 'Code', 'Name'],  # columns to keep\n",
    "    var_name='Date_Category',  # name for the combined date-category column\n",
    "    value_name='Value'         # values from all those columns\n",
    ")"
   ]
  },
  {
   "cell_type": "code",
   "execution_count": 30,
   "id": "d54c4813-3006-42ea-ab5f-0b46a69da2e7",
   "metadata": {},
   "outputs": [
    {
     "name": "stdout",
     "output_type": "stream",
     "text": [
      "  NHS_England_Region Code                                               Name  \\\n",
      "0    East of England  RC9        Bedfordshire Hospitals NHS Foundation Trust   \n",
      "1    East of England  RGT  Cambridge University Hospitals NHS Foundation ...   \n",
      "2    East of England  RWH             East and North Hertfordshire NHS Trust   \n",
      "3    East of England  RDE  East Suffolk and North Essex NHS Foundation Trust   \n",
      "4    East of England  RGP  James Paget University Hospitals NHS Foundatio...   \n",
      "5    East of England  RAJ           Mid and South Essex NHS Foundation Trust   \n",
      "6    East of England  RD8  Milton Keynes University Hospital NHS Foundati...   \n",
      "7    East of England  RM1  Norfolk and Norwich University Hospitals NHS F...   \n",
      "8    East of England  RGN             North West Anglia NHS Foundation Trust   \n",
      "9    East of England  RQW          The Princess Alexandra Hospital NHS Trust   \n",
      "\n",
      "        Date             category values  \n",
      "0 2023-11-20  Total G&A Beds Open  1,087  \n",
      "1 2023-11-20  Total G&A Beds Open  1,045  \n",
      "2 2023-11-20  Total G&A Beds Open    582  \n",
      "3 2023-11-20  Total G&A Beds Open  1,233  \n",
      "4 2023-11-20  Total G&A Beds Open    482  \n",
      "5 2023-11-20  Total G&A Beds Open  1,735  \n",
      "6 2023-11-20  Total G&A Beds Open    553  \n",
      "7 2023-11-20  Total G&A Beds Open    974  \n",
      "8 2023-11-20  Total G&A Beds Open    921  \n",
      "9 2023-11-20  Total G&A Beds Open    491  \n"
     ]
    }
   ],
   "source": [
    "df_long['Date'] = df_long['Date_Category'].str[:9]  # first 9 chars is date e.g. '20-Nov-23'\n",
    "df_long['Category'] = df_long['Date_Category'].str[10:]  # from 10th char onward is category\n",
    "\n",
    "# Convert 'Date' to datetime\n",
    "df_long['Date'] = pd.to_datetime(df_long['Date'], format='%d-%b-%y', errors='coerce')\n",
    "\n",
    "# Drop the combined column\n",
    "df_long = df_long.drop(columns=['Date_Category'])\n",
    "\n",
    "# Rename columns to match your desired names (optional)\n",
    "df_long = df_long.rename(columns={\n",
    "    'NHS England Region': 'NHS_England_Region',\n",
    "    'Value': 'values',\n",
    "    'Category': 'category'  # fixed spelling\n",
    "})\n",
    "\n",
    "# Reorder columns if you want\n",
    "df_long = df_long[['NHS_England_Region', 'Code', 'Name', 'Date', 'category', 'values']]\n",
    "\n",
    "print(df_long.head(10))\n"
   ]
  },
  {
   "cell_type": "code",
   "execution_count": 32,
   "id": "012d63e6-19d0-4be8-823f-675d56dd2bc9",
   "metadata": {},
   "outputs": [],
   "source": [
    "df_long.to_csv(\"Desktop/data6/long.csv\", index=False)"
   ]
  },
  {
   "cell_type": "code",
   "execution_count": null,
   "id": "9dd81be8-2116-4103-b70b-13b1db3f2dde",
   "metadata": {},
   "outputs": [],
   "source": []
  }
 ],
 "metadata": {
  "kernelspec": {
   "display_name": "Python 3 (ipykernel)",
   "language": "python",
   "name": "python3"
  },
  "language_info": {
   "codemirror_mode": {
    "name": "ipython",
    "version": 3
   },
   "file_extension": ".py",
   "mimetype": "text/x-python",
   "name": "python",
   "nbconvert_exporter": "python",
   "pygments_lexer": "ipython3",
   "version": "3.11.7"
  }
 },
 "nbformat": 4,
 "nbformat_minor": 5
}
